{
 "cells": [
  {
   "cell_type": "code",
   "execution_count": 2,
   "id": "703d3de4",
   "metadata": {},
   "outputs": [
    {
     "name": "stdout",
     "output_type": "stream",
     "text": [
      "Welcome to our online food ordering system!\n",
      "Items to choose \n",
      "Pizza\n",
      "Pasta\n",
      "Burrito\n",
      "Choose Items from menu : Chicken\n",
      "Chicken is not available. \n",
      "\n",
      "Choose from the below menu\n",
      "Pizza\n",
      "Pasta\n",
      "Burrito\n",
      "Choose Items from menu : Pasta\n",
      "Ordering Pasta...\n",
      "Payment processed successfully.\n",
      "Pasta will be delivered shortly!\n"
     ]
    }
   ],
   "source": [
    "items = ['Pizza','Pasta','Burrito'] # list/update available items\n",
    "\n",
    "        # Welcome Message and menu\n",
    "print(\"Welcome to our online food ordering system!\")\n",
    "print  ('Items to choose ') \n",
    "\n",
    "        \n",
    "while True:    \n",
    "    # Display available items sequentially\n",
    "    for i in items:\n",
    "        print (i)\n",
    "    # Accept order\n",
    "    user_choice = input(\"Choose Items from menu : \")\n",
    "    \n",
    "    # Check if user item present in the items\n",
    "    if user_choice in items:                      # Check ordered food available in the list of items\n",
    "        print(f\"Ordering {user_choice}...\")\n",
    "        print(\"Payment processed successfully.\")   # Assuming payment is clear\n",
    "        print(f\"{user_choice} will be delivered shortly!\")\n",
    "        break                                      # Breaking the loop if the order is successful\n",
    "    else:\n",
    "        print(f\"{user_choice} is not available. \\n\")\n",
    "        print(\"Choose from the below menu\")\n",
    "        continue                                   # Giving an option to choose the item from the menu"
   ]
  },
  {
   "cell_type": "code",
   "execution_count": null,
   "id": "6da9534d",
   "metadata": {},
   "outputs": [],
   "source": []
  }
 ],
 "metadata": {
  "kernelspec": {
   "display_name": "Python 3 (ipykernel)",
   "language": "python",
   "name": "python3"
  },
  "language_info": {
   "codemirror_mode": {
    "name": "ipython",
    "version": 3
   },
   "file_extension": ".py",
   "mimetype": "text/x-python",
   "name": "python",
   "nbconvert_exporter": "python",
   "pygments_lexer": "ipython3",
   "version": "3.10.9"
  }
 },
 "nbformat": 4,
 "nbformat_minor": 5
}
