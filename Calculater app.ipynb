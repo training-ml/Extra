{
 "cells": [
  {
   "cell_type": "markdown",
   "id": "4ec3aca0",
   "metadata": {},
   "source": [
    "# Calculator"
   ]
  },
  {
   "cell_type": "markdown",
   "id": "80b300d5",
   "metadata": {},
   "source": [
    "####  install tkinter before running this  "
   ]
  },
  {
   "cell_type": "markdown",
   "id": "3384274d",
   "metadata": {},
   "source": [
    "Note - When you run below code, it will open new calculator window"
   ]
  },
  {
   "cell_type": "code",
   "execution_count": 1,
   "id": "11e0fce9",
   "metadata": {},
   "outputs": [],
   "source": [
    "# !pip install tkinter\n",
    "\n",
    "import tkinter as tk\n",
    "\n",
    "def press(key):\n",
    "    entry.insert(tk.END, key)  # tk.END is a constant that represents the end of a text\n",
    "\n",
    "def calculate():\n",
    "    result = eval(entry.get())\n",
    "    entry.delete(0, tk.END)\n",
    "    entry.insert(tk.END, result)\n",
    "\n",
    "def clear():\n",
    "    entry.delete(0, tk.END)\n",
    "\n",
    "# Create a basic Tkinter window\n",
    "root = tk.Tk()\n",
    "root.title(\"Simple Calculator\")\n",
    "\n",
    "# Entry field to display and input numbers\n",
    "entry = tk.Entry(root, width=35, borderwidth=5)\n",
    "entry.grid(row=0, column=0, columnspan=4, padx=10, pady=10)\n",
    "\n",
    "# Define buttons\n",
    "buttons = [\n",
    "    (\"7\", \"8\", \"9\", \"/\"),\n",
    "    (\"4\", \"5\", \"6\", \"*\"),\n",
    "    (\"1\", \"2\", \"3\", \"-\"),\n",
    "    (\"0\", \"C\", \"=\", \"+\")\n",
    "]\n",
    "\n",
    "# Create and place buttons\n",
    "for i, row in enumerate(buttons):\n",
    "    for j, text in enumerate(row):\n",
    "        if text == \"=\":\n",
    "            btn = tk.Button(root, text=text, padx=40, pady=20, command=calculate)\n",
    "        elif text == \"C\":\n",
    "            btn = tk.Button(root, text=text, padx=40, pady=20, command=clear)\n",
    "        else:\n",
    "            btn = tk.Button(root, text=text, padx=40, pady=20, command=lambda t=text: press(t)) # lambda takes input and pass to press function\n",
    "        btn.grid(row=i+1, column=j, padx=5, pady=5)\n",
    "\n",
    "root.mainloop()\n"
   ]
  },
  {
   "cell_type": "code",
   "execution_count": null,
   "id": "1171eeb4",
   "metadata": {},
   "outputs": [],
   "source": []
  }
 ],
 "metadata": {
  "kernelspec": {
   "display_name": "Python 3 (ipykernel)",
   "language": "python",
   "name": "python3"
  },
  "language_info": {
   "codemirror_mode": {
    "name": "ipython",
    "version": 3
   },
   "file_extension": ".py",
   "mimetype": "text/x-python",
   "name": "python",
   "nbconvert_exporter": "python",
   "pygments_lexer": "ipython3",
   "version": "3.10.9"
  }
 },
 "nbformat": 4,
 "nbformat_minor": 5
}
