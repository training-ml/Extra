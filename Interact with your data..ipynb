{
 "cells": [
  {
   "cell_type": "markdown",
   "id": "e9fe8ced",
   "metadata": {},
   "source": [
    "#### You can use any other dataset and define functions under class as per your need."
   ]
  },
  {
   "cell_type": "code",
   "execution_count": 2,
   "id": "da9c162b",
   "metadata": {},
   "outputs": [
    {
     "name": "stdout",
     "output_type": "stream",
     "text": [
      "\n",
      "Menu:\n",
      "1. Display Data\n",
      "2. Plot\n",
      "3. Exit\n",
      "Enter your choice: 1\n",
      "Data:\n",
      "   Unnamed: 0     TV  radio  newspaper  sales\n",
      "0           1  230.1   37.8       69.2   22.1\n",
      "1           2   44.5   39.3       45.1   10.4\n",
      "2           3   17.2   45.9       69.3    9.3\n",
      "3           4  151.5   41.3       58.5   18.5\n",
      "4           5  180.8   10.8       58.4   12.9\n",
      "\n",
      "Menu:\n",
      "1. Display Data\n",
      "2. Plot\n",
      "3. Exit\n",
      "Enter your choice: 3\n",
      "Exiting...\n"
     ]
    }
   ],
   "source": [
    "import pandas as pd\n",
    "import matplotlib.pyplot as plt\n",
    "import seaborn as sns\n",
    "\n",
    "class Simpleapp:\n",
    "    def __init__(self, file_path):\n",
    "        self.data = pd.read_csv(file_path)\n",
    "\n",
    "    def display_data(self):\n",
    "        print(\"Data:\")\n",
    "        print (self.data.head())\n",
    "\n",
    "    def scatter_plot(self, columnX, columnY):\n",
    "        sns.scatterplot(x=columnX,y=columnY,data=self.data)\n",
    "        plt.show()\n",
    "\n",
    "def main():\n",
    "    file_path = 'Advertising.csv'  # use your csv file here \n",
    "    app = Simpleapp(file_path)\n",
    "    \n",
    "    while True:\n",
    "        print(\"\\nMenu:\")\n",
    "        print(\"1. Display Data\")\n",
    "        print(\"2. Plot\")\n",
    "        print(\"3. Exit\")\n",
    "        \n",
    "        choice = input(\"Enter your choice: \")  \n",
    "        if choice == '1':\n",
    "            app.display_data()\n",
    "        elif choice == '2':\n",
    "            columnX = input(\"Enter column X: \")\n",
    "            columnY = input(\"Enter column Y: \")\n",
    "            app.scatter_plot(columnX,columnY)\n",
    "        elif choice == '3':\n",
    "            print(\"Exiting...\")\n",
    "            break\n",
    "        else:\n",
    "            print(\"Invalid choice. Please try again.\")\n",
    "\n",
    "if __name__ == \"__main__\":\n",
    "    main()"
   ]
  },
  {
   "cell_type": "code",
   "execution_count": null,
   "id": "4fc8db46",
   "metadata": {},
   "outputs": [],
   "source": []
  }
 ],
 "metadata": {
  "kernelspec": {
   "display_name": "Python 3 (ipykernel)",
   "language": "python",
   "name": "python3"
  },
  "language_info": {
   "codemirror_mode": {
    "name": "ipython",
    "version": 3
   },
   "file_extension": ".py",
   "mimetype": "text/x-python",
   "name": "python",
   "nbconvert_exporter": "python",
   "pygments_lexer": "ipython3",
   "version": "3.10.9"
  }
 },
 "nbformat": 4,
 "nbformat_minor": 5
}
