{
 "cells": [
  {
   "cell_type": "markdown",
   "id": "c5e9e58a",
   "metadata": {},
   "source": [
    "# Create ToDo app using python. "
   ]
  },
  {
   "cell_type": "markdown",
   "id": "9032da82",
   "metadata": {},
   "source": [
    "You can add any number of tasks and view and complete the tasks."
   ]
  },
  {
   "cell_type": "code",
   "execution_count": 2,
   "id": "baa4df96",
   "metadata": {},
   "outputs": [
    {
     "name": "stdout",
     "output_type": "stream",
     "text": [
      "\n",
      "Menu:\n",
      "1. Add Task\n",
      "2. View Tasks\n",
      "3. Complete Task\n",
      "4. Exit\n",
      "Enter your choice: 1\n",
      "Enter task: Keep Practicing\n",
      "Task 'Keep Practicing' added!\n",
      "\n",
      "Menu:\n",
      "1. Add Task\n",
      "2. View Tasks\n",
      "3. Complete Task\n",
      "4. Exit\n",
      "Enter your choice: 1\n",
      "Enter task: Never give up\n",
      "Task 'Never give up' added!\n",
      "\n",
      "Menu:\n",
      "1. Add Task\n",
      "2. View Tasks\n",
      "3. Complete Task\n",
      "4. Exit\n",
      "Enter your choice: 1\n",
      "Enter task: Practice Interview questions\n",
      "Task 'Practice Interview questions' added!\n",
      "\n",
      "Menu:\n",
      "1. Add Task\n",
      "2. View Tasks\n",
      "3. Complete Task\n",
      "4. Exit\n",
      "Enter your choice: 2\n",
      "Tasks:\n",
      "1. Keep Practicing\n",
      "2. Never give up\n",
      "3. Practice Interview questions\n",
      "\n",
      "Menu:\n",
      "1. Add Task\n",
      "2. View Tasks\n",
      "3. Complete Task\n",
      "4. Exit\n",
      "Enter your choice: 4\n",
      "Exiting...\n"
     ]
    }
   ],
   "source": [
    "class TodoApp:\n",
    "    def __init__(self):\n",
    "        self.tasks = []\n",
    "\n",
    "    def add_task(self, task):\n",
    "        self.tasks.append(task)\n",
    "        print(f\"Task '{task}' added!\")\n",
    "\n",
    "    def view_tasks(self):\n",
    "        if self.tasks:\n",
    "            print(\"Tasks:\")\n",
    "            for index, task in enumerate(self.tasks, start=1):\n",
    "                print(f\"{index}. {task}\")\n",
    "        else:\n",
    "            print(\"No tasks to display.\")\n",
    "\n",
    "    def complete_task(self, task_index):\n",
    "        if 1 <= task_index <= len(self.tasks):\n",
    "            completed_task = self.tasks.pop(task_index - 1)\n",
    "            print(f\"Completed task: '{completed_task}'\")\n",
    "        else:\n",
    "            print(\"Invalid task index.\")\n",
    "\n",
    "def main():\n",
    "    todo_app = TodoApp()\n",
    "    while True:\n",
    "        print(\"\\nMenu:\")\n",
    "        print(\"1. Add Task\")\n",
    "        print(\"2. View Tasks\")\n",
    "        print(\"3. Complete Task\")\n",
    "        print(\"4. Exit\")\n",
    "        choice = input(\"Enter your choice: \")\n",
    "\n",
    "        if choice == '1':\n",
    "            task = input(\"Enter task: \")\n",
    "            todo_app.add_task(task)\n",
    "        elif choice == '2':\n",
    "            todo_app.view_tasks()\n",
    "        elif choice == '3':\n",
    "            todo_app.view_tasks()\n",
    "            task_index = int(input(\"Enter task index to mark as completed: \"))\n",
    "            todo_app.complete_task(task_index)\n",
    "        elif choice == '4':\n",
    "            print(\"Exiting...\")\n",
    "            break\n",
    "        else:\n",
    "            print(\"Invalid choice. Please try again.\")\n",
    "\n",
    "main()"
   ]
  },
  {
   "cell_type": "code",
   "execution_count": null,
   "id": "a6e205d4",
   "metadata": {},
   "outputs": [],
   "source": []
  }
 ],
 "metadata": {
  "kernelspec": {
   "display_name": "Python 3 (ipykernel)",
   "language": "python",
   "name": "python3"
  },
  "language_info": {
   "codemirror_mode": {
    "name": "ipython",
    "version": 3
   },
   "file_extension": ".py",
   "mimetype": "text/x-python",
   "name": "python",
   "nbconvert_exporter": "python",
   "pygments_lexer": "ipython3",
   "version": "3.10.9"
  }
 },
 "nbformat": 4,
 "nbformat_minor": 5
}
